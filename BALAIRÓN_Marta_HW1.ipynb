{
 "cells": [
  {
   "cell_type": "markdown",
   "metadata": {},
   "source": [
    "# Marta Balairón García: 100451724\n",
    "## INDEX: The loans programm\n",
    "### 1) Linear programming approach\n",
    "- Problem statment\n",
    "- Problem Formulation\n",
    "- Coding the problem\n",
    "- Results interpretation\n",
    "- Sensitivity analysis\n",
    "\n",
    "### 2) Binary programming approach\n",
    "####     2.1) Where to send students?\n",
    "- Problem statment\n",
    "- Problem Formulation\n",
    "- Coding the problem\n",
    "- Results interpretation\n",
    "\n",
    "####     2.2) In which countries carry out the loan program?\n",
    "- Problem statment\n",
    "- Problem Formulation\n",
    "- Coding the problem\n",
    "- Results interpretation"
   ]
  },
  {
   "cell_type": "markdown",
   "metadata": {},
   "source": [
    "# Canada, the student's dream."
   ]
  },
  {
   "cell_type": "markdown",
   "metadata": {},
   "source": [
    "In this modern world, learning **English** is a priority and the majority of the people agree on the idea that studying abroad is essential for having a valuable English level. Unfortunately, this is not possible for an important part of people.\n",
    "\n",
    "Therefore, we are working on a program of loans to send students from different nationalities to Canada during two years.\n"
   ]
  },
  {
   "cell_type": "markdown",
   "metadata": {},
   "source": [
    "<img src=\"img/flag.png\" alt=\"Table2\" style=\"width: 400px; height: 200px;\" />"
   ]
  },
  {
   "cell_type": "markdown",
   "metadata": {},
   "source": [
    "## PROBLEM STATEMENT"
   ]
  },
  {
   "cell_type": "markdown",
   "metadata": {},
   "source": [
    "### What is the loan program about?"
   ]
  },
  {
   "cell_type": "markdown",
   "metadata": {},
   "source": [
    "\n",
    "This loan's program is destinated to 6 different nationalities:\n",
    "- Spanish (1) \n",
    "- English (2) \n",
    "- Polish (3) \n",
    "- French (4)\n",
    "- Ucranian (5)\n",
    "- German (6)\n",
    "\n",
    "And we offer 6 different kind of loans depending on the economic capabilities of each family:\n",
    "- Type 1: 5.000€\n",
    "- Type 2: 10.000€\n",
    "- Type 3: 15.000€\n",
    "- Type 4: 20.000€\n",
    "- Type 5: 25.000€\n",
    "- Type 6: 30.000€"
   ]
  },
  {
   "cell_type": "markdown",
   "metadata": {},
   "source": [
    "### How is the money distributed?"
   ]
  },
  {
   "cell_type": "markdown",
   "metadata": {},
   "source": [
    "We count with a **budget of 18.000.000€**. This money is reparted in order of **maximize** the number of money distributed in  loans but following some conditions:\n",
    "- Ucranian people must receive at least 5 type 6 loans (due to the difficult conditions of life there)\n",
    "- Polish people must receive at least 5 type 4, 5 and 6 loans (due to the different of economic power with the other countries)\n",
    "- At least, the number of distributed loans of each type given to a country must be equal or greater than the number of requests made for that country for that type of loan.\n",
    "\n",
    "It is important also to consider the requests of the people which are represented in the following table.\n"
   ]
  },
  {
   "cell_type": "markdown",
   "metadata": {},
   "source": [
    "<img src=\"img/requests.png\" alt=\"Table2\" style=\"width: 600px; height: 200px;\" />"
   ]
  },
  {
   "cell_type": "markdown",
   "metadata": {},
   "source": [
    "As well each country has a limit of budget for loans which cannot exceed depending in their economic situation:\n",
    "- Spain: 2.000.000 €\n",
    "- England: 1.500.000 €\n",
    "- Poland: 5.000.000 €\n",
    "- France: 1.500.000 €\n",
    "- Ucrain: 7.000.000 €\n",
    "- Germany: 1.000.000 €"
   ]
  },
  {
   "cell_type": "markdown",
   "metadata": {},
   "source": [
    "When the loans are distributed, if there are more loans distributed than the ones requested, people can ask again for them in case they follow the conditions."
   ]
  },
  {
   "cell_type": "markdown",
   "metadata": {},
   "source": [
    "## PROBLEM FORMULATION"
   ]
  },
  {
   "cell_type": "markdown",
   "metadata": {},
   "source": [
    "### Sets\n",
    "\n",
    " $N$ = set of nationalities\n",
    " \n",
    " $L$= set of loan type's\n",
    " \n",
    "\n",
    "### Variables\n",
    "\n",
    " $x_{ij}$ = number of loans given for someone of nationality $i$ of type $j$\n",
    " \n",
    "### Parameters\n",
    "\n",
    "$quantity$ = money paid for each loan type $j$, $\\forall j\\in L$\n",
    "\n",
    "$request$ = number of loans of type $j$ requested by nationality $i$, $\\forall j\\in L$ $\\forall i\\in N$\n",
    "\n",
    "$limit$ = maximum amount of money that a country $i$ can receive for loans,  $\\forall i\\in N$\n",
    "\n",
    "\n",
    "### Objective\n",
    "\n",
    "Maximize the number of budget distributed:\n",
    " $\\max \\sum_{i\\in N}\\sum_{j \\in L} x_{ij}*quantity_{j}$\n",
    "\n",
    "\n",
    "### Constraints\n",
    "\n",
    "The money distributed can not exceed the total budget:\n",
    "* $\\sum_{i\\in N}\\sum_{j \\in L} quantity_{j}* x_{ij} \\leq 18.000.000 $, $\\forall i \\in N$, $\\forall j \\in L$\n",
    "\n",
    "The loans of each type given to each country, must be at least equal to the number of requested loans by students.\n",
    "* $x_{ij} \\geq request_{ij}$ $\\forall i \\in N$, $\\forall j \\in L$\n",
    "\n",
    "The amount of money given in loans for each contry cannot exceed the maximum amount money stablished:\n",
    "* $\\sum_{j \\in L} x_{ij}* quantity_{j} \\leq limit_{j} $, $\\forall i \\in N$\n",
    "\n",
    "Ucranian people must receive at least five type 6 loans:\n",
    "* $x_{56} \\geq 5 $\n",
    " \n",
    "Polish people must receive at least five type 4, 5 and 5 loans:\n",
    "* $x_{34} + x_{35} + x_{36} \\geq 5 $\n",
    "\n"
   ]
  },
  {
   "cell_type": "markdown",
   "metadata": {},
   "source": [
    "  ## CODING THE PROBLEM"
   ]
  },
  {
   "cell_type": "code",
   "execution_count": 1,
   "metadata": {},
   "outputs": [],
   "source": [
    "from pyomo.environ import *\n",
    "from pyomo.opt import SolverFactory"
   ]
  },
  {
   "cell_type": "code",
   "execution_count": 2,
   "metadata": {},
   "outputs": [],
   "source": [
    "# We import the necessary dataframes created in excel for initializing the variables\n",
    "import pandas as pd\n",
    "\n",
    "df_requests = pd.read_excel(\"requests.xlsx\")\n",
    "df_quantities = pd.read_excel(\"quantity.xlsx\")\n",
    "df_limits = pd.read_excel(\"limits.xlsx\")"
   ]
  },
  {
   "cell_type": "code",
   "execution_count": 3,
   "metadata": {
    "scrolled": true
   },
   "outputs": [],
   "source": [
    "# we create the necessary functions to initiallize the variables\n",
    "def requ(model):\n",
    "    requests = dict()\n",
    "    for i in model.i:\n",
    "        for j in model.j:\n",
    "            j_s = str(j)\n",
    "            requests[(i, j)] = df_requests[j_s][i-1]           \n",
    "    return requests\n",
    "\n",
    "def quant(model):\n",
    "    quantities = dict()\n",
    "    for j in model.j:\n",
    "        quantities[j] = df_quantities[\"quantity\"][j-1]\n",
    "    return quantities\n",
    "\n",
    "def limits(model):\n",
    "    limits = dict()\n",
    "    for i in model.i:\n",
    "        limits[i] = df_limits[\"limit\"][i-1]\n",
    "    return limits\n",
    "\n"
   ]
  },
  {
   "cell_type": "code",
   "execution_count": 4,
   "metadata": {},
   "outputs": [],
   "source": [
    "# Define the data\n",
    "model = ConcreteModel()\n",
    "model.dual = Suffix(direction=Suffix.IMPORT) # important for sensitivity\n",
    "\n",
    "model.i = Set(initialize=[1, 2, 3, 4, 5, 6], doc='nationalities' ) \n",
    "model.j = Set(initialize=[1, 2, 3, 4, 5, 6], doc='loan_types') \n",
    "\n",
    "quantities = quant(model)\n",
    "limits = limits(model)\n",
    "requests = requ(model)\n",
    "\n",
    "model.quantity = Param(model.j, initialize=quantities, doc=\"quantity assigned for each loan type\")\n",
    "model.limits = Param(model.i, initialize=limits, doc=\"limit for amount of money distributed for each country\")\n",
    "model.requests = Param(model.i, model.j, initialize=requests, doc='number loans requested') "
   ]
  },
  {
   "cell_type": "markdown",
   "metadata": {},
   "source": [
    "#### Declare the variables:"
   ]
  },
  {
   "cell_type": "code",
   "execution_count": 5,
   "metadata": {},
   "outputs": [],
   "source": [
    "model.x = Var(model.i, model.j, doc=\"number of type j loans given to nationality i\", within=NonNegativeReals)"
   ]
  },
  {
   "cell_type": "markdown",
   "metadata": {},
   "source": [
    "#### Define objective function:"
   ]
  },
  {
   "cell_type": "code",
   "execution_count": 6,
   "metadata": {},
   "outputs": [],
   "source": [
    "# function for defaining the objective function\n",
    "def objective_rule(model):\n",
    "    suma = 0\n",
    "    for i in model.i:\n",
    "        for j in model.j:\n",
    "            suma += model.x[i, j]*model.quantity[j]\n",
    "    return suma\n",
    "model.objective = Objective(rule=objective_rule, sense=maximize, doc='distributed loans')\n"
   ]
  },
  {
   "cell_type": "code",
   "execution_count": 7,
   "metadata": {},
   "outputs": [],
   "source": [
    "#model.objective.pprint()"
   ]
  },
  {
   "cell_type": "markdown",
   "metadata": {},
   "source": [
    "#### Define the constraints:"
   ]
  },
  {
   "cell_type": "code",
   "execution_count": 8,
   "metadata": {},
   "outputs": [],
   "source": [
    "# function for defining the budget constraint\n",
    "def budget(model):\n",
    "    suma = 0\n",
    "    for i in model.i:\n",
    "        for j in model.j:\n",
    "            suma += (model.x[i, j] * model.quantity[j])\n",
    "            \n",
    "    return suma\n",
    "\n",
    "\n",
    "# function for defining the limit of loans contraints\n",
    "def limit(model, i):\n",
    "    suma = 0\n",
    "    for j in model.j:\n",
    "        suma += model.x[i, j]*model.quantity[j]  \n",
    "    \n",
    "    return suma\n",
    "\n"
   ]
  },
  {
   "cell_type": "code",
   "execution_count": 9,
   "metadata": {},
   "outputs": [],
   "source": [
    "# budget constraint\n",
    "eq = budget(model)\n",
    "model.budget = Constraint(expr = eq <= 18000000)\n",
    "\n",
    "# limit of amount of money distributed:\n",
    "eq1 = limit(model, 1)\n",
    "eq2 = limit(model, 2)\n",
    "eq3 = limit(model, 3)\n",
    "eq4 = limit(model, 4)\n",
    "eq5 = limit(model, 5)\n",
    "eq6 = limit(model, 6)\n",
    "\n",
    "model.limit_constraint = ConstraintList()\n",
    "model.limit_constraint.add(expr = eq1 <= model.limits[1])\n",
    "model.limit_constraint.add(expr = eq2 <= model.limits[2])\n",
    "model.limit_constraint.add(expr = eq3 <= model.limits[3])\n",
    "model.limit_constraint.add(expr = eq4 <= model.limits[4])\n",
    "model.limit_constraint.add(expr = eq5 <= model.limits[5])\n",
    "model.limit_constraint.add(expr = eq6 <= model.limits[6])\n",
    "\n",
    "# Reuests constraints\n",
    "model.requests_Spain_constraint = ConstraintList()\n",
    "model.requests_Spain_constraint.add(expr = (model.x[1, 1] >= model.requests[1, 1]))\n",
    "model.requests_Spain_constraint.add(expr = (model.x[1, 2] >= model.requests[1, 2]))\n",
    "model.requests_Spain_constraint.add(expr = (model.x[1, 3] >= model.requests[1, 3]))\n",
    "model.requests_Spain_constraint.add(expr = (model.x[1, 4] >= model.requests[1, 4]))\n",
    "model.requests_Spain_constraint.add(expr = (model.x[1, 5] >= model.requests[1, 5]))\n",
    "model.requests_Spain_constraint.add(expr = (model.x[1, 6] >= model.requests[1, 6]))\n",
    "\n",
    "model.requests_England_constraint = ConstraintList()\n",
    "model.requests_England_constraint.add(expr = (model.x[2, 1] >= model.requests[2, 1]))\n",
    "model.requests_England_constraint.add(expr = (model.x[2, 2] >= model.requests[2, 2]))\n",
    "model.requests_England_constraint.add(expr = (model.x[2, 3] >= model.requests[2, 3]))\n",
    "model.requests_England_constraint.add(expr = (model.x[2, 4] >= model.requests[2, 4]))\n",
    "model.requests_England_constraint.add(expr = (model.x[2, 5] >= model.requests[2, 5]))\n",
    "model.requests_England_constraint.add(expr = (model.x[2, 6] >= model.requests[2, 6]))\n",
    "\n",
    "model.requests_Poland_constraint = ConstraintList()\n",
    "model.requests_Poland_constraint.add(expr = (model.x[3, 1] >= model.requests[3, 1]))\n",
    "model.requests_Poland_constraint.add(expr = (model.x[3, 2] >= model.requests[3, 2]))\n",
    "model.requests_Poland_constraint.add(expr = (model.x[3, 3] >= model.requests[3, 3]))\n",
    "model.requests_Poland_constraint.add(expr = (model.x[3, 4] >= model.requests[3, 4]))\n",
    "model.requests_Poland_constraint.add(expr = (model.x[3, 5] >= model.requests[3, 5]))\n",
    "model.requests_Poland_constraint.add(expr = (model.x[3, 6] >= model.requests[3, 6]))\n",
    "\n",
    "model.requests_France_constraint = ConstraintList()\n",
    "model.requests_France_constraint.add(expr = (model.x[4, 1] >= model.requests[4, 1]))\n",
    "model.requests_France_constraint.add(expr = (model.x[4, 2] >= model.requests[4, 2]))\n",
    "model.requests_France_constraint.add(expr = (model.x[4, 3] >= model.requests[4, 3]))\n",
    "model.requests_France_constraint.add(expr = (model.x[4, 4] >= model.requests[4, 4]))\n",
    "model.requests_France_constraint.add(expr = (model.x[4, 5] >= model.requests[4, 5]))\n",
    "model.requests_France_constraint.add(expr = (model.x[4, 6] >= model.requests[4, 6]))\n",
    "\n",
    "model.requests_Ucrain_constraint = ConstraintList()\n",
    "model.requests_Ucrain_constraint.add(expr = (model.x[5, 1] >= model.requests[5, 1]))\n",
    "model.requests_Ucrain_constraint.add(expr = (model.x[5, 2] >= model.requests[5, 2]))\n",
    "model.requests_Ucrain_constraint.add(expr = (model.x[5, 3] >= model.requests[5, 3]))\n",
    "model.requests_Ucrain_constraint.add(expr = (model.x[5, 4] >= model.requests[5, 4]))\n",
    "model.requests_Ucrain_constraint.add(expr = (model.x[5, 5] >= model.requests[5, 5]))\n",
    "model.requests_Ucrain_constraint.add(expr = (model.x[5, 6] >= model.requests[5, 6]))\n",
    "\n",
    "model.requests_Germany_constraint = ConstraintList()\n",
    "model.requests_Germany_constraint.add(expr = (model.x[6, 1] >= model.requests[6, 1]))\n",
    "model.requests_Germany_constraint.add(expr = (model.x[6, 2] >= model.requests[6, 2]))\n",
    "model.requests_Germany_constraint.add(expr = (model.x[6, 3] >= model.requests[6, 3]))\n",
    "model.requests_Germany_constraint.add(expr = (model.x[6, 4] >= model.requests[6, 4]))\n",
    "model.requests_Germany_constraint.add(expr = (model.x[6, 5] >= model.requests[6, 5]))\n",
    "model.requests_Germany_constraint.add(expr = (model.x[6, 6] >= model.requests[6, 6]))\n",
    "\n",
    "# Ucrain constraint\n",
    "model.ucrain = Constraint(expr = model.x[5, 6] >= 5)\n",
    "\n",
    "# Poland constraint\n",
    "model.poland = Constraint(expr = (model.x[3, 4] + model.x[3, 5] + model.x[3, 6]) >= 5)\n",
    "\n"
   ]
  },
  {
   "cell_type": "markdown",
   "metadata": {},
   "source": [
    "#### Solving the problem:"
   ]
  },
  {
   "cell_type": "code",
   "execution_count": 10,
   "metadata": {},
   "outputs": [],
   "source": [
    "Solver = SolverFactory(\"glpk\")\n",
    "results = Solver.solve(model)\n",
    "#model.display()"
   ]
  },
  {
   "cell_type": "markdown",
   "metadata": {},
   "source": [
    "## RESULT INTERPRETATION"
   ]
  },
  {
   "cell_type": "markdown",
   "metadata": {},
   "source": [
    "<img src=\"img/results.png\" alt=\"Table2\" style=\"width: 650px; height: 400px;\" />"
   ]
  },
  {
   "cell_type": "markdown",
   "metadata": {},
   "source": [
    "In this graph we can observe how are the loans distributed. It is easy to see that:\n",
    "- Most of the loans are of **type 1**, since they have the least restrictive requirements and therefore are the most requested ones.\n",
    "- In general, the countries which more loans received are **Poland** and **Ucrain** since they are the one which have a more depressed economy and therfore, their limit budget is higher."
   ]
  },
  {
   "cell_type": "markdown",
   "metadata": {},
   "source": [
    "In the following graphs we can analyse how specifically each type of loan is distributed:"
   ]
  },
  {
   "cell_type": "markdown",
   "metadata": {},
   "source": [
    "<img src=\"img/t12.png\" alt=\"Table2\" style=\"width: 750px; height: 200px;\" /> \n",
    "\n",
    "\n",
    "<img src=\"img/t 3 4.png\" alt=\"Table2\" style=\"width: 750px; height: 200px;\" />\n",
    "\n",
    "<img src=\"img/t 5 6.png\" alt=\"Table2\" style=\"width: 750px; height: 200px;\" />\n"
   ]
  },
  {
   "cell_type": "markdown",
   "metadata": {},
   "source": [
    "Moreover we have calculated that the total budget used is **18.000.000 €**, and as a feasible solution was found, means that **all requests were satisfyied**. This results are great since we have maximize the budget as much as possible and since we have satisfyied all requests following the constraints."
   ]
  },
  {
   "cell_type": "markdown",
   "metadata": {},
   "source": [
    "## SENSITIVITY ANALYSIS"
   ]
  },
  {
   "cell_type": "code",
   "execution_count": 11,
   "metadata": {},
   "outputs": [
    {
     "name": "stdout",
     "output_type": "stream",
     "text": [
      "dual : Direction=Suffix.IMPORT, Datatype=Suffix.FLOAT\n",
      "    Key                            : Value\n",
      "                            budget :   1.0\n",
      "               limit_constraint[1] :  -0.0\n",
      "               limit_constraint[2] :  -0.0\n",
      "               limit_constraint[3] :  -0.0\n",
      "               limit_constraint[4] :  -0.0\n",
      "               limit_constraint[5] :  -0.0\n",
      "               limit_constraint[6] :   0.0\n",
      "                            poland :   0.0\n",
      "    requests_England_constraint[1] :  -0.0\n",
      "    requests_England_constraint[2] :  -0.0\n",
      "    requests_England_constraint[3] :  -0.0\n",
      "    requests_England_constraint[4] :   0.0\n",
      "    requests_England_constraint[5] :  -0.0\n",
      "    requests_England_constraint[6] :  -0.0\n",
      "     requests_France_constraint[1] :   0.0\n",
      "     requests_France_constraint[2] :  -0.0\n",
      "     requests_France_constraint[3] :  -0.0\n",
      "     requests_France_constraint[4] :  -0.0\n",
      "     requests_France_constraint[5] :  -0.0\n",
      "     requests_France_constraint[6] :  -0.0\n",
      "    requests_Germany_constraint[1] :   0.0\n",
      "    requests_Germany_constraint[2] :  -0.0\n",
      "    requests_Germany_constraint[3] :  -0.0\n",
      "    requests_Germany_constraint[4] :  -0.0\n",
      "    requests_Germany_constraint[5] :  -0.0\n",
      "    requests_Germany_constraint[6] :  -0.0\n",
      "     requests_Poland_constraint[1] :   0.0\n",
      "     requests_Poland_constraint[2] :  -0.0\n",
      "     requests_Poland_constraint[3] :  -0.0\n",
      "     requests_Poland_constraint[4] :  -0.0\n",
      "     requests_Poland_constraint[5] :  -0.0\n",
      "     requests_Poland_constraint[6] :  -0.0\n",
      "      requests_Spain_constraint[1] :   0.0\n",
      "      requests_Spain_constraint[2] :  -0.0\n",
      "      requests_Spain_constraint[3] :  -0.0\n",
      "      requests_Spain_constraint[4] :  -0.0\n",
      "      requests_Spain_constraint[5] :  -0.0\n",
      "      requests_Spain_constraint[6] :  -0.0\n",
      "     requests_Ucrain_constraint[1] :   0.0\n",
      "     requests_Ucrain_constraint[2] :  -0.0\n",
      "     requests_Ucrain_constraint[3] :  -0.0\n",
      "     requests_Ucrain_constraint[4] :  -0.0\n",
      "     requests_Ucrain_constraint[5] :  -0.0\n",
      "     requests_Ucrain_constraint[6] :  -0.0\n",
      "                            ucrain :   0.0\n"
     ]
    }
   ],
   "source": [
    "model.dual.display()"
   ]
  },
  {
   "cell_type": "markdown",
   "metadata": {},
   "source": [
    "**The sensitivity** shows the influence of each of the constraints in the objective. Every time you increment one unit of a variable, the number that appears shows how much increases or decreases the distributed money. "
   ]
  },
  {
   "cell_type": "markdown",
   "metadata": {},
   "source": [
    "## BINARY PROBLEM STATMENT"
   ]
  },
  {
   "cell_type": "markdown",
   "metadata": {},
   "source": [
    "Once the loans are distributed in the most efficient way, it is time to decide how each nationality student is allocated in the different cities of Canada. For this international program are 6 different cities where you can go:\n",
    "- Quebec (1)\n",
    "- Toronto (2) \n",
    "- Vancuver (3) \n",
    "- Montreal (4)\n",
    "- Ontario (5)\n",
    "- New Brunswick (6)\n",
    "- Ottawa (7)\n",
    "- Victoria (8)\n",
    "\n",
    "What is more, Quebec, Ontario and New Brunswick are consider Francophone cities of the countries.\n",
    "\n",
    "The **objective** of the program is to encourage the internationalization of the students so we are looking to **maximize the number of cities for each nationality**. However, there exist some limitations to this:\n",
    "- English students (2), because of reasons of language, cannot go to not francophone cities. (2, 3, 4, 7, 8)\n",
    "- French students (4), simmilarly cannot go to francophone cities. (1, 5, 6)\n",
    "- All cities must receive at least 2 different nationalities.\n",
    "- Because governamental reasons, there cannot be students of the same nationality in Vancuver(3) and Toronto(2).\n",
    "- Victoria city (8) it is not capable of host more than 3 nationalities because it doesnt have enough hall of students.\n"
   ]
  },
  {
   "cell_type": "markdown",
   "metadata": {},
   "source": [
    "## BINARY PROBLEM FORMULATION (I)"
   ]
  },
  {
   "cell_type": "markdown",
   "metadata": {},
   "source": [
    "### Sets\n",
    "\n",
    " $O$ = set of origin nationalities\n",
    " \n",
    " $D$= set of destiny cities.\n",
    " \n",
    "\n",
    "### Variables\n",
    "\n",
    "$$\n",
    "x_{ij}=\n",
    "\\left\\{\\begin{array}{ll} \n",
    "1, & \\text{if the city $j$ receive students from nationality $i$,}\\\\\n",
    "0, & \\text{if the city $j$ does not receive students from nationality $i$}\n",
    "\\end{array} \\right.\\quad\n",
    "$$\n",
    "\n",
    " \n",
    "\n",
    "### Objective\n",
    "\n",
    "Maximize the distribution of different nationalities in different cities:\n",
    "* $\\max \\sum_{i\\in O}\\sum_{j \\in L} x_{ij}$\n",
    "\n",
    "\n",
    "### Constraints\n",
    "\n",
    "English students cannot attend to not francophone cities:\n",
    "* $x_{22} + x_{23} + x_{24} + x_{27} + x_{28} = 0$ \n",
    "\n",
    "\n",
    "French students cannot attend to  francophone cities:\n",
    "* $x_{41} + x_{45} + x_{46} = 0$ \n",
    "\n",
    "Each city must receive at least 2 nationalities:\n",
    "* $\\sum_{i \\in O} x_{ij} \\geq 2 $, $\\forall j \\in D$\n",
    "\n",
    "Incompatibility of same nationality at Vancuver and Toronto: \n",
    "* $x_{i3} + x_{i2} \\leq 1$ $\\forall i \\in O$\n",
    " \n",
    "Limitation at hosting of Victoria city:\n",
    "* $\\sum_{i \\in O} x_{i8} \\leq 3 $\n"
   ]
  },
  {
   "cell_type": "markdown",
   "metadata": {},
   "source": [
    "## CODING THE BINARY PROBLEM (I)"
   ]
  },
  {
   "cell_type": "code",
   "execution_count": 12,
   "metadata": {},
   "outputs": [],
   "source": [
    "model_2 = ConcreteModel(\"Binary loans model\")\n",
    "\n",
    "model_2.i = RangeSet(1, 6) # origin\n",
    "model_2.j = RangeSet(1, 8) # destiny"
   ]
  },
  {
   "cell_type": "markdown",
   "metadata": {},
   "source": [
    "#### Define the variables"
   ]
  },
  {
   "cell_type": "code",
   "execution_count": 13,
   "metadata": {},
   "outputs": [],
   "source": [
    "model_2.x = Var(model_2.i, model_2.j, domain=Binary)"
   ]
  },
  {
   "cell_type": "markdown",
   "metadata": {},
   "source": [
    "#### Objective function"
   ]
  },
  {
   "cell_type": "code",
   "execution_count": 14,
   "metadata": {},
   "outputs": [],
   "source": [
    "def objective(model):\n",
    "    suma = 0\n",
    "    for i in model.i:\n",
    "        for j in model.j:\n",
    "            suma += model.x[i, j]\n",
    "    return suma\n",
    "\n",
    "eq = objective(model_2)\n",
    "model_2.obj = Objective(rule=eq, sense=maximize)"
   ]
  },
  {
   "cell_type": "code",
   "execution_count": 15,
   "metadata": {},
   "outputs": [],
   "source": [
    "# model_2.obj.pprint()"
   ]
  },
  {
   "cell_type": "markdown",
   "metadata": {},
   "source": [
    "#### Define the constraints"
   ]
  },
  {
   "cell_type": "code",
   "execution_count": 16,
   "metadata": {},
   "outputs": [],
   "source": [
    "# functions for defining the equations of the constraints\n",
    "def minimum(model, j):\n",
    "    suma = 0\n",
    "    for i in model.i:\n",
    "        suma += model.x[i, j]  \n",
    "    return suma\n",
    "\n",
    "def victoria(model):\n",
    "    suma = 0\n",
    "    for i in model.i:\n",
    "        suma += model.x[i, 8]\n",
    "    \n",
    "    return suma"
   ]
  },
  {
   "cell_type": "code",
   "execution_count": 17,
   "metadata": {},
   "outputs": [],
   "source": [
    "# English and French constraints\n",
    "model_2.eng = Constraint(expr=(model_2.x[2, 2] + model_2.x[2, 3] + model_2.x[2, 4] + model_2.x[2, 7] + model_2.x[2, 8]) == 0)\n",
    "model_2.fr = Constraint(expr=(model_2.x[4, 1] + model_2.x[4, 5] + model_2.x[4, 6]) == 0)\n",
    "\n",
    "# minimum adjudications to the destiny constraints\n",
    "eq1_min = minimum(model_2, 1)\n",
    "eq2_min = minimum(model_2, 2)\n",
    "eq3_min = minimum(model_2, 3)\n",
    "eq4_min = minimum(model_2, 4)\n",
    "eq5_min = minimum(model_2, 5)\n",
    "eq6_min = minimum(model_2, 6)\n",
    "eq7_min = minimum(model_2, 7)\n",
    "eq8_min = minimum(model_2, 8)\n",
    "\n",
    "model_2.min1 = Constraint(expr=(eq1_min >= 2))\n",
    "model_2.min2 = Constraint(expr=(eq2_min >= 2))\n",
    "model_2.min3 = Constraint(expr=(eq3_min >= 2))\n",
    "model_2.min4 = Constraint(expr=(eq4_min >= 2))\n",
    "model_2.min5 = Constraint(expr=(eq5_min >= 2))\n",
    "model_2.min6 = Constraint(expr=(eq6_min >= 2))\n",
    "model_2.min7 = Constraint(expr=(eq7_min >= 2))\n",
    "model_2.min8 = Constraint(expr=(eq8_min >= 2))\n",
    "\n",
    "# incopatibilities\n",
    "model_2.incop1 = Constraint(expr=((model_2.x[1, 3] + model_2.x[1, 2]) <= 1))\n",
    "model_2.incop2 = Constraint(expr=((model_2.x[2, 3] + model_2.x[2, 2]) <= 1))\n",
    "model_2.incop3 = Constraint(expr=((model_2.x[3, 3] + model_2.x[3, 2]) <= 1))\n",
    "model_2.incop4 = Constraint(expr=((model_2.x[4, 3] + model_2.x[4, 2]) <= 1))\n",
    "model_2.incop5 = Constraint(expr=((model_2.x[5, 3] + model_2.x[5, 2]) <= 1))\n",
    "model_2.incop6 = Constraint(expr=((model_2.x[6, 3] + model_2.x[6, 2]) <= 1))\n",
    "\n",
    "# minimum Victoria city\n",
    "eq_vict = victoria(model_2)\n",
    "model_2.vict = Constraint(expr=(eq_vict <= 3))\n"
   ]
  },
  {
   "cell_type": "markdown",
   "metadata": {},
   "source": [
    "#### Model resolution:"
   ]
  },
  {
   "cell_type": "code",
   "execution_count": 18,
   "metadata": {},
   "outputs": [],
   "source": [
    "Solver = SolverFactory(\"glpk\")\n",
    "results = Solver.solve(model_2)\n",
    "#model_2.display()"
   ]
  },
  {
   "cell_type": "markdown",
   "metadata": {},
   "source": [
    "## Analysis of the results (I)"
   ]
  },
  {
   "cell_type": "markdown",
   "metadata": {},
   "source": [
    "After having optimized the problem we can conclude that the students from the different nationalities will be distributed this way:\n",
    "- Spanish students will be sent to Quebec, Toronto and Ottawa.\n",
    "- English Students will be sent to Ontario and New Brunswick.\n",
    "- Polish students will be sent to Quebec, Toronto, Montreal, Ontario, New Brunswick, Ottawa and Victoria.\n",
    "- French students will be sent to Vancuver, Montreal, Ottawa and Victoria city.\n",
    "- Ucranian students will be sent to Quebec, Vancuver, Montreal, Ontario, New Brunswick, Ottawa and Victoria\n",
    "- Germany Students will be sent to Toronto and Ottawa."
   ]
  },
  {
   "cell_type": "markdown",
   "metadata": {},
   "source": [
    "## AMPLIATION OF THE BINARY STATMENT"
   ]
  },
  {
   "cell_type": "markdown",
   "metadata": {},
   "source": [
    "Sudenly, an economical problem has occur and now the loans comapy cannot invest in all the countries. Therefore, now we must select in which countries take the loans project. We must that we want to invest in the maximum number of projects as possible. \n",
    "\n",
    "We are going to distributed to the maximum number of countries, the complete assignation of loans calculated in the first part of this project. (For this, we are going to load the data which is stored in an excel df).\n",
    "\n",
    "We want to distribute the **maximum number of complete loan programs** as possible (implicetily, we want to use as much avaliable money as possible) , but taking into account that **the new budget is 12.000.000** and the following constraints:\n",
    "- The distributed money, cannot exceed the new budget\n",
    "- Since Germany and England have the most powerful economic resources, we cannot invest in both projects.\n",
    "- If we invest in Germany or England, we must also invest in Ucrain and/or Poland (since they ave the most depressed economies).\n",
    "- Spain and France ar consider simmilar countries regarding the economy, therefore we must invest in at least one of those."
   ]
  },
  {
   "cell_type": "markdown",
   "metadata": {},
   "source": [
    "## BINARY PROBLEM FORMULATION (II)\n"
   ]
  },
  {
   "cell_type": "markdown",
   "metadata": {},
   "source": [
    "### Sets\n",
    "\n",
    " $N$ = set of candidate nationalities\n",
    " $L$ = set of types of loans\n",
    "\n",
    "### Parameters\n",
    "\n",
    "$quantity_{j}$ = money paid for each loan type $j$, $\\forall L$\n",
    "\n",
    "$assignation_{ij}$ = number of loans of type $j$ assigned to nationality $i$, $\\forall L$\n",
    "\n",
    "$expenses_{i}$ = expenses generated by loans given to nationality $i$, $\\forall N$\n",
    "\n",
    "$expenses_{i}$ = $\\sum_{j\\in L}$ $assignation_{ij}$ * $quantity_{j}$ $\\forall i \\in N$\n",
    "\n",
    "### Variables\n",
    "\n",
    "$$\n",
    "x_{i}=\n",
    "\\left\\{\\begin{array}{ll} \n",
    "1, & \\text{invest at project $i$,}\\\\\n",
    "0, & \\text{don not invest at project $i$}\n",
    "\\end{array} \\right.\\quad\n",
    "$$\n",
    "\n",
    "### Objective\n",
    "\n",
    "Maximize the number of inversions (implicetely, maximize the used budget):\n",
    "* $\\max \\sum_{i\\in N}x_{i}$\n",
    "\n",
    "\n",
    "### Constraints\n",
    "\n",
    "\n",
    "Budget constraint:\n",
    "*  $\\sum_{i\\in N} expenses_{i}* x_{i} \\leq 12.000.000 $, $\\forall i \\in N$\n",
    "\n",
    "Incompatibility of Germany and Engalnd:\n",
    "* $x_{6} + x_{2} \\leq 1$ \n",
    "\n",
    "\n",
    "Dependency of Ucrain and Poland on England and Germany:\n",
    "* $x_{6} + x_{3} + x_{5} \\geq 2$ \n",
    "* $x_{4} + x_{3} + x_{5} \\geq 2$ \n",
    "\n",
    "Obligation of apareance of France and Spain:\n",
    "* $2 \\geq x_{1} + x_{4} \\geq 1$ \n"
   ]
  },
  {
   "cell_type": "markdown",
   "metadata": {},
   "source": [
    "## CODING THE BINARY PROBLEM (II)"
   ]
  },
  {
   "cell_type": "code",
   "execution_count": 19,
   "metadata": {},
   "outputs": [],
   "source": [
    "df_assignations = pd.read_excel(\"assignment.xlsx\")\n",
    "\n",
    "model_3 = ConcreteModel(\"Binary loans plans selection\")\n",
    "model_3.i = RangeSet(1, 6) # nationalities\n",
    "model_3.j = RangeSet(1, 6) # loan types"
   ]
  },
  {
   "cell_type": "markdown",
   "metadata": {},
   "source": [
    "#### Define the variables:"
   ]
  },
  {
   "cell_type": "code",
   "execution_count": 20,
   "metadata": {},
   "outputs": [],
   "source": [
    "# we create the necessary functions to initiallize the variables\n",
    "def expenses(model): \n",
    "    assignations = dict()\n",
    "    for i in model.i:\n",
    "        for j in model.j:\n",
    "            j_s = str(j)\n",
    "            assignations[(i, j)] = df_assignations[j_s][i-1]       \n",
    "\n",
    "    expenses = dict()\n",
    "    for i in model.i:\n",
    "        exp = 0\n",
    "        for j in model.j:\n",
    "            exp += assignations[(i, j)]*quantities[j]\n",
    "\n",
    "        expenses[i] = exp\n",
    "    \n",
    "    return expenses  "
   ]
  },
  {
   "cell_type": "code",
   "execution_count": 21,
   "metadata": {},
   "outputs": [],
   "source": [
    "expenses = expenses(model_3)\n",
    "\n",
    "model_3.expenses = Param(model_3.i, initialize=expenses, doc=\"expenses done in the assignment of loans to that nationality\")\n",
    "model_3.x = Var(model_3.i, domain=Binary)"
   ]
  },
  {
   "cell_type": "markdown",
   "metadata": {},
   "source": [
    "#### Define the objective"
   ]
  },
  {
   "cell_type": "code",
   "execution_count": 22,
   "metadata": {},
   "outputs": [],
   "source": [
    "def obj(model):\n",
    "    suma = 0\n",
    "    for i in model.i:\n",
    "        suma += model.x[i]\n",
    "    return suma\n",
    "\n",
    "eq = obj(model_3)\n",
    "model_3.obj = Objective(rule=eq, sense=maximize)"
   ]
  },
  {
   "cell_type": "code",
   "execution_count": 23,
   "metadata": {},
   "outputs": [],
   "source": [
    "#model_3.obj.pprint()"
   ]
  },
  {
   "cell_type": "markdown",
   "metadata": {},
   "source": [
    "#### Define the constraints"
   ]
  },
  {
   "cell_type": "code",
   "execution_count": 24,
   "metadata": {},
   "outputs": [],
   "source": [
    "# function for defining the budget constraint\n",
    "def budget(model):\n",
    "    suma = 0\n",
    "    for i in model.i:\n",
    "        suma += model.x[i]*model.expenses[i]\n",
    "            \n",
    "    return suma\n"
   ]
  },
  {
   "cell_type": "code",
   "execution_count": 25,
   "metadata": {},
   "outputs": [],
   "source": [
    "# budget constraint\n",
    "eq = budget(model_3)\n",
    "model_3.budget_constraint = Constraint(expr=(eq <= 12000000))\n",
    "\n",
    "# incompatibility Germany and England\n",
    "model_3.incomp = Constraint(expr=(model_3.x[6] + model_3.x[2]) <= 1)\n",
    "\n",
    "# dependency Germany and England with Ucrain and poland\n",
    "model_3.dep1 = Constraint(expr=(model_3.x[6] + model_3.x[3] + model_3.x[5]) >= 2)\n",
    "model_3.dep2 = Constraint(expr=(model_3.x[4] + model_3.x[3] + model_3.x[5]) >= 2)\n",
    "\n",
    "# obligation of appareance of france and Spain\n",
    "\n",
    "model_3.fs = Constraint(expr=(model_3.x[1] + model_3.x[4]) >= 1)\n"
   ]
  },
  {
   "cell_type": "markdown",
   "metadata": {},
   "source": [
    "#### Solve the problem"
   ]
  },
  {
   "cell_type": "code",
   "execution_count": 26,
   "metadata": {},
   "outputs": [
    {
     "name": "stdout",
     "output_type": "stream",
     "text": [
      "Model Binary loans plans selection\n",
      "\n",
      "  Variables:\n",
      "    x : Size=6, Index=i\n",
      "        Key : Lower : Value : Upper : Fixed : Stale : Domain\n",
      "          1 :     0 :   1.0 :     1 : False : False : Binary\n",
      "          2 :     0 :   0.0 :     1 : False : False : Binary\n",
      "          3 :     0 :   1.0 :     1 : False : False : Binary\n",
      "          4 :     0 :   1.0 :     1 : False : False : Binary\n",
      "          5 :     0 :   0.0 :     1 : False : False : Binary\n",
      "          6 :     0 :   1.0 :     1 : False : False : Binary\n",
      "\n",
      "  Objectives:\n",
      "    obj : Size=1, Index=None, Active=True\n",
      "        Key  : Active : Value\n",
      "        None :   True :   4.0\n",
      "\n",
      "  Constraints:\n",
      "    budget_constraint : Size=1\n",
      "        Key  : Lower : Body      : Upper\n",
      "        None :  None : 9500000.0 : 12000000.0\n",
      "    incomp : Size=1\n",
      "        Key  : Lower : Body : Upper\n",
      "        None :  None :  1.0 :   1.0\n",
      "    dep1 : Size=1\n",
      "        Key  : Lower : Body : Upper\n",
      "        None :   2.0 :  2.0 :  None\n",
      "    dep2 : Size=1\n",
      "        Key  : Lower : Body : Upper\n",
      "        None :   2.0 :  2.0 :  None\n",
      "    fs : Size=1\n",
      "        Key  : Lower : Body : Upper\n",
      "        None :   1.0 :  2.0 :  None\n"
     ]
    }
   ],
   "source": [
    "Solver = SolverFactory(\"glpk\")\n",
    "results = Solver.solve(model_3)\n",
    "model_3.display()"
   ]
  },
  {
   "cell_type": "markdown",
   "metadata": {},
   "source": [
    "## Analysis of the result (II)"
   ]
  },
  {
   "cell_type": "markdown",
   "metadata": {},
   "source": [
    "After having optimize the model, we conclude that the most optimal is to carry out the loan program at **Spain, Poland, France and Germany**. Making use of 9.5 million € which is an **80% of the proposed budget**.\n",
    "\n",
    "We can observe how all the constraints are accomplished:\n",
    "- Germany receives de loans but not England.\n",
    "- As Germany receives, Poland does it too.\n",
    "- Both France and Spain receive loans.\n",
    "\n"
   ]
  }
 ],
 "metadata": {
  "kernelspec": {
   "display_name": "Python 3",
   "language": "python",
   "name": "python3"
  },
  "language_info": {
   "codemirror_mode": {
    "name": "ipython",
    "version": 3
   },
   "file_extension": ".py",
   "mimetype": "text/x-python",
   "name": "python",
   "nbconvert_exporter": "python",
   "pygments_lexer": "ipython3",
   "version": "3.8.3"
  }
 },
 "nbformat": 4,
 "nbformat_minor": 4
}
